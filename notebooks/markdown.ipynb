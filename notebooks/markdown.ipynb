{
 "cells": [
  {
   "cell_type": "code",
   "execution_count": 52,
   "metadata": {},
   "outputs": [],
   "source": [
    "import requests\n",
    "\n",
<<<<<<< Updated upstream
<<<<<<< HEAD
    "import mistune\n",
=======
>>>>>>> 2c5c238 (Minor fixes)
=======
>>>>>>> Stashed changes
    "import mistletoe\n",
    "import openai\n",
    "from langchain.prompts import load_prompt\n",
    "from markdownify import markdownify as md\n",
    "\n",
    "from readability import Document\n",
    "import lxml\n",
    "\n",
    "# idk why can't import \n",
    "def simplify(html, document_title=\"\"):\n",
    "  document = Document(html)\n",
    "  title = document.title()\n",
    "  if title == \"[no-title]\":\n",
    "      title = document_title\n",
    "  tree = lxml.html.fromstring(document.summary())\n",
    "  this_level: list[lxml.html] = [tree]\n",
    "  while this_level:\n",
    "      next_level = []\n",
    "      for elem in this_level:\n",
    "          if elem.tag not in (\"figure\", \"a\"):\n",
    "              elem.attrib.clear()\n",
    "          next_level.extend(elem)\n",
    "      this_level = next_level\n",
    "  while len(tree) == 1 and tree[0].tag != \"p\":\n",
    "      tree = tree[0]\n",
    "  text = f\"<h1>{title}</h1></br>\" + \"\".join([lxml.html.tostring(child).decode('utf-8') for child in tree]).replace(\"\\n\", \"\").replace(\"\\r\", \"\")\n",
    "  return text\n"
   ]
  },
  {
   "cell_type": "code",
   "execution_count": 35,
   "metadata": {},
   "outputs": [
    {
     "name": "stderr",
     "output_type": "stream",
     "text": [
      "No `_type` key found, defaulting to `prompt`.\n"
     ]
    }
   ],
   "source": [
    "url = \"https://medium.com/inside-machine-learning/what-is-a-transformer-d07dd1fbec04\"\n",
    "notes = \"<h1>Summary of article</h1><ul><li>\"\n",
    "context = simplify(requests.get(url).text)\n",
    "# context = \"<html><body><p>The quick brown fox jumped over the lazy dog.</p></body></html>\"\n",
    "prompt_template = load_prompt(\"../src/prompts/v1.yaml\")"
   ]
  },
  {
   "cell_type": "code",
   "execution_count": 30,
   "metadata": {},
   "outputs": [],
   "source": [
    "def using_html(url, context, notes):\n",
    "    completion = openai.Completion.create(\n",
    "        engine=\"text-davinci-003\", \n",
    "        # engine=\"text-curie-001\", \n",
    "        prompt = prompt_template.format(url=url, context=context, notes=notes),\n",
    "        max_tokens=2000,\n",
    "        stop=[\"===END===\"],\n",
    "    )\n",
    "    return completion.choices[0].text"
   ]
  },
  {
   "cell_type": "code",
   "execution_count": 57,
   "metadata": {},
   "outputs": [
    {
     "name": "stderr",
     "output_type": "stream",
     "text": [
      "No `_type` key found, defaulting to `prompt`.\n"
     ]
    },
    {
     "data": {
      "text/plain": [
       "' transformer is an artificial intelligence (AI) system that helps machine learning models understand natural language, allowing computers to interact with humans in their native language.*</li></ul><h1>Applications of transformer</h1><p><em>Transformers are used for a variety of natural language processing tasks such as machine translation, question-answering systems and summarizing text.</em></p>'"
      ]
     },
     "execution_count": 57,
     "metadata": {},
     "output_type": "execute_result"
    }
   ],
   "source": [
    "prompt_template = load_prompt(\"../src/prompts/markdown_completion.yaml\")\n",
    "CURSOR_INDICATOR = \" CURSOR_INDICATOR \"\n",
    "def using_markdown(url, context, notes):\n",
    "    context_in_markdown = md(context)\n",
    "    notes_in_markdown = md(notes).rstrip()\n",
    "    prompt = prompt_template.format(url=url, context=context_in_markdown[len(context_in_markdown) // 2], notes=notes_in_markdown)\n",
    "    completion = openai.Completion.create(\n",
    "        engine=\"text-davinci-003\", \n",
    "        prompt = prompt,\n",
    "        max_tokens=1000,\n",
    "        stop=[\"===END===\"],\n",
    "    ).choices[0].text\n",
    "    # notes = mistune.markdown(notes)\n",
    "    completed_notes = notes_in_markdown + CURSOR_INDICATOR + completion\n",
    "    completed_notes_html = mistletoe.markdown(completed_notes).replace(\"\\n\", \"\")\n",
    "    _notes_user, notes_completion = completed_notes_html.split(CURSOR_INDICATOR.strip())\n",
    "    return notes_completion[len(\"  \"):]\n",
    "  \n",
    "using_markdown(url, context, notes)"
   ]
  },
  {
   "cell_type": "code",
   "execution_count": null,
   "metadata": {},
   "outputs": [],
   "source": []
  }
 ],
 "metadata": {
  "kernelspec": {
   "display_name": "Python 3.10.9 ('aline-v5AmhfmB-py3.10')",
   "language": "python",
   "name": "python3"
  },
  "language_info": {
   "codemirror_mode": {
    "name": "ipython",
    "version": 3
   },
   "file_extension": ".py",
   "mimetype": "text/x-python",
   "name": "python",
   "nbconvert_exporter": "python",
   "pygments_lexer": "ipython3",
   "version": "3.10.9"
  },
  "orig_nbformat": 4,
  "vscode": {
   "interpreter": {
    "hash": "647ad36cd1ba1b19d126e26c7f4a0bab04f4682de41c82337fd1290abd115c76"
   }
  }
 },
 "nbformat": 4,
 "nbformat_minor": 2
}
