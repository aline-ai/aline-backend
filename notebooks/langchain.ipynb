{
 "cells": [
  {
   "cell_type": "code",
   "execution_count": 1,
   "metadata": {},
   "outputs": [],
   "source": [
    "import requests\n",
    "\n",
    "import mistletoe\n",
    "import openai\n",
    "from langchain.prompts import load_prompt\n",
    "from markdownify import markdownify as md\n",
    "\n",
    "from readability import Document\n",
    "import lxml\n",
    "\n",
    "# idk why can't import \n",
    "def simplify(html, document_title=\"\"):\n",
    "  document = Document(html)\n",
    "  title = document.title()\n",
    "  if title == \"[no-title]\":\n",
    "      title = document_title\n",
    "  tree = lxml.html.fromstring(document.summary())\n",
    "  this_level: list[lxml.html] = [tree]\n",
    "  while this_level:\n",
    "      next_level = []\n",
    "      for elem in this_level:\n",
    "          if elem.tag not in (\"figure\", \"a\"):\n",
    "              elem.attrib.clear()\n",
    "          next_level.extend(elem)\n",
    "      this_level = next_level\n",
    "  while len(tree) == 1 and tree[0].tag != \"p\":\n",
    "      tree = tree[0]\n",
    "  text = f\"<h1>{title}</h1></br>\" + \"\".join([lxml.html.tostring(child).decode('utf-8') for child in tree]).replace(\"\\n\", \"\").replace(\"\\r\", \"\")\n",
    "  return text\n"
   ]
  },
  {
   "cell_type": "code",
   "execution_count": null,
   "metadata": {},
   "outputs": [],
   "source": []
  }
 ],
 "metadata": {
  "kernelspec": {
   "display_name": "Python 3.10.9 ('aline-v5AmhfmB-py3.10')",
   "language": "python",
   "name": "python3"
  },
  "language_info": {
   "codemirror_mode": {
    "name": "ipython",
    "version": 3
   },
   "file_extension": ".py",
   "mimetype": "text/x-python",
   "name": "python",
   "nbconvert_exporter": "python",
   "pygments_lexer": "ipython3",
   "version": "3.10.9"
  },
  "orig_nbformat": 4,
  "vscode": {
   "interpreter": {
    "hash": "647ad36cd1ba1b19d126e26c7f4a0bab04f4682de41c82337fd1290abd115c76"
   }
  }
 },
 "nbformat": 4,
 "nbformat_minor": 2
}
